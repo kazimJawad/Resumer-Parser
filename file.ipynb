{
 "cells": [
  {
   "cell_type": "code",
   "execution_count": null,
   "metadata": {},
   "outputs": [],
   "source": [
    "from pdfminer.layout import LAParams\n",
    "from pdfminer.pdfinterp import PDFResourceManager, PDFPageInterpreter\n",
    "from pdfminer.converter import PDFPageAggregator\n",
    "from pdfminer.pdfpage import PDFPage\n",
    "from pdfminer.layout import LTTextBoxHorizontal\n",
    "\n",
    "document = open('Mohamed_fathy.pdf', 'rb')\n",
    "#Create resource manager\n",
    "rsrcmgr = PDFResourceManager()\n",
    "# Set parameters for analysis.\n",
    "laparams = LAParams()\n",
    "# Create a PDF page aggregator object.\n",
    "device = PDFPageAggregator(rsrcmgr, laparams=laparams)\n",
    "interpreter = PDFPageInterpreter(rsrcmgr, device)\n",
    "for page in PDFPage.get_pages(document):\n",
    "    interpreter.process_page(page)\n",
    "    # receive the LTPage object for the page.\n",
    "    layout = device.get_result()\n",
    "    x0 = y0 = x1 = y1 = 0\n",
    "    tableColumns = []\n",
    "    for element in layout:\n",
    "        if isinstance(element, LTTextBoxHorizontal):\n",
    "            # print(x0, y0, x1, y1)\n",
    "            if(y0==element.bbox[1] and y1==element.bbox[3]):\n",
    "                if(len(tableColumns)==0):\n",
    "                    tableColumns.append(x0)\n",
    "                tableColumns.append(element.bbox[0])\n",
    "\n",
    "            elif(x0 not in tableColumns):\n",
    "                if(len(tableColumns)!=0):\n",
    "                    tableColumns.clear()\n",
    "                # print('>>>>',element.bbox[0], element.bbox[1])\n",
    "                print(element.get_text())    \n",
    "            x0,y0,x1,y1=element.bbox"
   ]
  }
 ],
 "metadata": {
  "kernelspec": {
   "display_name": "Python 3",
   "language": "python",
   "name": "python3"
  },
  "language_info": {
   "name": "python",
   "version": "3.10.1 (tags/v3.10.1:2cd268a, Dec  6 2021, 19:10:37) [MSC v.1929 64 bit (AMD64)]"
  },
  "orig_nbformat": 4,
  "vscode": {
   "interpreter": {
    "hash": "0ce752f791788e706e403b407394b32df66e602d79d3a6bbbc615aaf58482da3"
   }
  }
 },
 "nbformat": 4,
 "nbformat_minor": 2
}
